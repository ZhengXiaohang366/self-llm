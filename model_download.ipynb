{
 "cells": [
  {
   "cell_type": "code",
   "execution_count": null,
   "id": "e6dde419-700f-42f5-b5ea-7f2d52c1372e",
   "metadata": {},
   "outputs": [
    {
     "name": "stderr",
     "output_type": "stream",
     "text": [
      "Downloading [config.json]: 100%|██████████| 663/663 [00:00<00:00, 1.29kB/s]\n",
      "Downloading [configuration.json]: 100%|██████████| 2.00/2.00 [00:00<00:00, 3.80B/s]\n",
      "Downloading [generation_config.json]: 100%|██████████| 243/243 [00:00<00:00, 344B/s]\n",
      "Downloading [LICENSE]: 100%|██████████| 11.1k/11.1k [00:00<00:00, 23.0kB/s]\n",
      "Downloading [merges.txt]: 100%|██████████| 1.59M/1.59M [00:00<00:00, 1.84MB/s]\n",
      "Downloading [model-00001-of-00004.safetensors]:  75%|███████▍  | 2.74G/3.67G [01:49<00:48, 20.8MB/s]"
     ]
    }
   ],
   "source": [
    "from modelscope import snapshot_download\n",
    "\n",
    "# 指定本地保存的文件夹路径\n",
    "local_model_path = \"./model\"\n",
    "\n",
    "# 下载模型并保存到指定路径\n",
    "model_dir = snapshot_download('Qwen/Qwen2.5-7B-Instruct', cache_dir=local_model_path)\n",
    "\n",
    "print(f\"模型已下载到: {model_dir}\")"
   ]
  },
  {
   "cell_type": "code",
   "execution_count": null,
   "id": "5d2a1be3-d604-4e55-89af-a22fc29c09c4",
   "metadata": {},
   "outputs": [],
   "source": []
  }
 ],
 "metadata": {
  "kernelspec": {
   "display_name": "Python 3 (ipykernel)",
   "language": "python",
   "name": "python3"
  },
  "language_info": {
   "codemirror_mode": {
    "name": "ipython",
    "version": 3
   },
   "file_extension": ".py",
   "mimetype": "text/x-python",
   "name": "python",
   "nbconvert_exporter": "python",
   "pygments_lexer": "ipython3",
   "version": "3.10.8"
  }
 },
 "nbformat": 4,
 "nbformat_minor": 5
}
