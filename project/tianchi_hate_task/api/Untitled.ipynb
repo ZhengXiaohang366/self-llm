{
 "cells": [
  {
   "cell_type": "code",
   "execution_count": 1,
   "id": "4db833d6-dc88-43b5-81af-6f34bd33d30d",
   "metadata": {},
   "outputs": [
    {
     "name": "stdout",
     "output_type": "stream",
     "text": [
      "Hello! How can I assist you today? 😊\n"
     ]
    }
   ],
   "source": [
    "# Please install OpenAI SDK first: `pip3 install openai`\n",
    "\n",
    "from openai import OpenAI\n",
    "\n",
    "client = OpenAI(api_key=\"sk-8f90dd605888499597549aeb0b049f55\", base_url=\"https://api.deepseek.com\")\n",
    "\n",
    "response = client.chat.completions.create(\n",
    "    model=\"deepseek-chat\",\n",
    "    messages=[\n",
    "        {\"role\": \"system\", \"content\": \"You are a helpful assistant\"},\n",
    "        {\"role\": \"user\", \"content\": \"Hello\"},\n",
    "    ],\n",
    "    stream=False\n",
    ")\n",
    "\n",
    "print(response.choices[0].message.content)"
   ]
  },
  {
   "cell_type": "code",
   "execution_count": 2,
   "id": "9487bb4e-ff35-4562-889a-3b4769ea415e",
   "metadata": {},
   "outputs": [],
   "source": [
    "# Please install OpenAI SDK first: `pip3 install openai`\n",
    "\n",
    "from openai import OpenAI\n",
    "from tqdm import tqdm\n",
    "\n",
    "client = OpenAI(api_key=\"sk-8f90dd605888499597549aeb0b049f55\", base_url=\"https://api.deepseek.com\")\n"
   ]
  },
  {
   "cell_type": "code",
   "execution_count": 3,
   "id": "8fe3f94d-36ff-4438-9585-65f26ed72ac4",
   "metadata": {},
   "outputs": [
    {
     "name": "stdout",
     "output_type": "stream",
     "text": [
      "{'id': 4169, 'content': '飞周兄弟还不认亲？兄弟啊，还袭击？'}\n"
     ]
    }
   ],
   "source": [
    "import json\n",
    "\n",
    "# 方法一：使用 with 语句自动管理文件的打开和关闭\n",
    "file_path = '../dataset/raw/test1.json'\n",
    "try:\n",
    "    with open(file_path, 'r', encoding='utf-8') as file:\n",
    "        # 读取并解析 JSON 数据\n",
    "        data = json.load(file)\n",
    "        # 打印读取的数据\n",
    "        print(data[0])\n",
    "except FileNotFoundError:\n",
    "    print(f\"文件 {file_path} 未找到。\")\n",
    "except json.JSONDecodeError:\n",
    "    print(f\"文件 {file_path} 不是有效的 JSON 格式。\")"
   ]
  },
  {
   "cell_type": "code",
   "execution_count": 5,
   "id": "7dd079f1-7612-4299-8d7e-89b247f1b993",
   "metadata": {},
   "outputs": [
    {
     "name": "stdout",
     "output_type": "stream",
     "text": [
      "1. 识别评论对象(Target)和对应论点(Argument):\n",
      "   - 评论对象1: 阿三\n",
      "   - 论点1: 未来可能会像阿三一样，四处黑公交\n",
      "   - 评论对象2: 中国\n",
      "   - 论点2: 现在中国已经发生了好几起黑公交案件了，没有几起案件，警察都得下岗了\n",
      "   - 评论对象3: 日本\n",
      "   - 论点3: 日本低欲望是因为自身人民变得太懒了，男的喜欢纸片人，女的只喜欢嫁给有钱人\n",
      "\n",
      "2. 确定目标群体(Targeted Group)和判断是否仇恨(Hateful):\n",
      "   - 评论对象1: 阿三\n",
      "   - 目标群体: Racism\n",
      "   - 是否仇恨: hate\n",
      "   - 评论对象2: 中国\n",
      "   - 目标群体: Region\n",
      "   - 是否仇恨: hate\n",
      "   - 评论对象3: 日本\n",
      "   - 目标群体: Region\n",
      "   - 是否仇恨: hate\n",
      "\n",
      "最终判断:\n",
      "阿三 | 未来可能会像阿三一样，四处黑公交 | Racism | hate [SEP] 中国 | 现在中国已经发生了好几起黑公交案件了，没有几起案件，警察都得下岗了 | Region | hate [SEP] 日本 | 日本低欲望是因为自身人民变得太懒了，男的喜欢纸片人，女的只喜欢嫁给有钱人 | Region | hate [END]\n"
     ]
    }
   ],
   "source": [
    "response = client.chat.completions.create(\n",
    "    model=\"deepseek-chat\",\n",
    "    messages=[\n",
    "        {\"role\": \"system\", \"content\": \"\"\"请从中文社交媒体文本中识别仇恨言论四元组。按以下要求处理：\n",
    "1.识别评论对象(Target)，无目标时写NULL\n",
    "2.提取对应论点(Argument)\n",
    "3.确定目标群体(Targeted Group)：如果是仇恨，判断是一下哪个：LGBTQ/Racism/Region/Sexism/others；如果不涉及仇恨就是non-hate\n",
    "4.判断是否仇恨(Hateful)：hate/non-hate\n",
    "\n",
    "输出格式：Target | Argument | Targeted Group | Hateful [SEP]... [END]\n",
    "多个四元组用[SEP]分隔，最后用[END]结尾\n",
    "\n",
    "下面提供几个数据样例：\n",
    "\n",
    "输入： 你可真是头蠢驴，这都做不好。\n",
    "输出： 你 | 蠢驴 | non-hate | non-hate [END]\n",
    "\n",
    "输入： 老黑我是真的讨厌，媚黑的还倒贴。\n",
    "输出： 老黑 | 讨厌 | Racism | hate [SEP] 媚黑的 | 倒贴 | Racism | hate [END]\n",
    "\n",
    "输入： 就最近来说有两个事，lol某主播的前女友发文称其飞黄腾达后抛弃她。我个人的想法是看男方的回应，本来恋爱期间有些东西是说不清的。结果小作文来了，一群人不等男方回应直接定论。如果男方承认了那确实应该锤死，万一有什么反转呢？这次是顺风团，万一下次是逆风呢？\n",
    "输出： 一群人 | 不等男方回应直接定论 | others | hate [END]\n",
    "\n",
    "输入： 想反女权还得看女权，舔狗龟男理中客们不是男人能打醒的。\n",
    "输出： 女权 | 想反女权还得看女权 | Sexism | hate [SEP] 舔狗龟男理中客们 | 不是男人能打醒的 | Sexism | hate [END]\n",
    "\n",
    "输入： 图片暂时发不出来等我想想办法\n",
    "输出： 图片 | 暂时发不出来 | non-hate | non-hate [END]\n",
    "\n",
    "\"\"\"},\n",
    "        {\"role\": \"user\", \"content\":'请你逐步思考判断一下这个文本，然后在最后一行输出一个符合格式的最终判断：'+\"未来可能会像阿三一样，四处黑公交，现在中国已经发生了好几起黑公交案件了，没有几起案件，警察都得下岗了，日本低欲望是因为自身人民变得太懒了，男的喜欢纸片人，女的只喜欢嫁给有钱人\"},\n",
    "    ],\n",
    "    stream=False\n",
    "    )\n",
    "res_str = response.choices[0].message.content\n",
    "print(res_str)"
   ]
  },
  {
   "cell_type": "code",
   "execution_count": 18,
   "id": "100b1f55-464f-4175-8170-dbabafc31fc1",
   "metadata": {},
   "outputs": [
    {
     "name": "stderr",
     "output_type": "stream",
     "text": [
      " 10%|███████████████████▊                                                                                                                                                                                  | 1/10 [00:08<01:17,  8.60s/it]"
     ]
    },
    {
     "name": "stdout",
     "output_type": "stream",
     "text": [
      "飞周兄弟还不认亲？兄弟啊，还袭击？\n",
      "飞周兄弟 | 还不认亲 | others | hate [SEP] 兄弟 | 还袭击 | others | hate [END]\n"
     ]
    },
    {
     "name": "stderr",
     "output_type": "stream",
     "text": [
      " 20%|███████████████████████████████████████▌                                                                                                                                                              | 2/10 [00:16<01:05,  8.24s/it]"
     ]
    },
    {
     "name": "stdout",
     "output_type": "stream",
     "text": [
      "好久没上贴吧了，广黑吧没了吗？\n",
      "广黑吧 | 好久没上贴吧了，广黑吧没了吗 | Region | hate [END]\n"
     ]
    },
    {
     "name": "stderr",
     "output_type": "stream",
     "text": [
      " 30%|███████████████████████████████████████████████████████████▍                                                                                                                                          | 3/10 [00:23<00:54,  7.81s/it]"
     ]
    },
    {
     "name": "stdout",
     "output_type": "stream",
     "text": [
      "有这样的话？如果是这样的，那就是卫辉官媒的错误。但是，你是不是在造谣。请给出网址以供查阅。\n",
      "卫辉官媒 | 错误 | others | hate [SEP] 你 | 造谣 | others | hate [END]\n"
     ]
    },
    {
     "name": "stderr",
     "output_type": "stream",
     "text": [
      " 40%|███████████████████████████████████████████████████████████████████████████████▏                                                                                                                      | 4/10 [00:31<00:47,  7.91s/it]"
     ]
    },
    {
     "name": "stdout",
     "output_type": "stream",
     "text": [
      "男权是男女平权。请不要污名化男权。\n",
      "男权 | 男女平权 | non-hate | non-hate [SEP] 男权 | 请不要污名化 | non-hate | non-hate [END]\n"
     ]
    },
    {
     "name": "stderr",
     "output_type": "stream",
     "text": [
      " 50%|███████████████████████████████████████████████████████████████████████████████████████████████████                                                                                                   | 5/10 [00:42<00:43,  8.71s/it]"
     ]
    },
    {
     "name": "stdout",
     "output_type": "stream",
     "text": [
      "这很niggeг\n",
      "这很niggeг | 这很niggeг | Racism | hate [END]\n"
     ]
    },
    {
     "name": "stderr",
     "output_type": "stream",
     "text": [
      " 60%|██████████████████████████████████████████████████████████████████████████████████████████████████████████████████████▊                                                                               | 6/10 [00:49<00:32,  8.19s/it]"
     ]
    },
    {
     "name": "stdout",
     "output_type": "stream",
     "text": [
      "你这是打拳吗？不是，你这是在追求男女平等。\n",
      "你 | 打拳 | non-hate | non-hate [SEP] 你 | 追求男女平等 | non-hate | non-hate [END]\n"
     ]
    },
    {
     "name": "stderr",
     "output_type": "stream",
     "text": [
      " 70%|██████████████████████████████████████████████████████████████████████████████████████████████████████████████████████████████████████████▌                                                           | 7/10 [00:59<00:26,  8.98s/it]"
     ]
    },
    {
     "name": "stdout",
     "output_type": "stream",
     "text": [
      "这就三观有问题了？你别以为中国人会吃政治正确那一套。\n",
      "中国人 | 别以为中国人会吃政治正确那一套 | others | hate [END]\n"
     ]
    },
    {
     "name": "stderr",
     "output_type": "stream",
     "text": [
      " 80%|██████████████████████████████████████████████████████████████████████████████████████████████████████████████████████████████████████████████████████████████▍                                       | 8/10 [01:08<00:17,  8.96s/it]"
     ]
    },
    {
     "name": "stdout",
     "output_type": "stream",
     "text": [
      "搞不懂中国人为啥要吹黑人性能力，其实他们根本没去了解过，等到女人真信了谣言去找黑人了又哭天抢地\n",
      "中国人 | 吹黑人性能力 | Racism | hate [SEP] 女人 | 真信了谣言去找黑人 | Racism | hate [END]\n"
     ]
    },
    {
     "name": "stderr",
     "output_type": "stream",
     "text": [
      " 90%|██████████████████████████████████████████████████████████████████████████████████████████████████████████████████████████████████████████████████████████████████████████████████▏                   | 9/10 [01:15<00:08,  8.20s/it]"
     ]
    },
    {
     "name": "stdout",
     "output_type": "stream",
     "text": [
      "笑，田楠就是骗婚骗炮的，真田楠水准在一般人以上，就没那么多剩女了\n",
      "田楠 | 骗婚骗炮 | Sexism | hate [SEP] 田楠 | 真田楠水准在一般人以上，就没那么多剩女了 | Sexism | hate [END]\n"
     ]
    },
    {
     "name": "stderr",
     "output_type": "stream",
     "text": [
      "100%|█████████████████████████████████████████████████████████████████████████████████████████████████████████████████████████████████████████████████████████████████████████████████████████████████████| 10/10 [01:22<00:00,  8.24s/it]"
     ]
    },
    {
     "name": "stdout",
     "output_type": "stream",
     "text": [
      "这个视频比较恶臭\n",
      "NULL | 这个视频比较恶臭 | non-hate | non-hate [END]\n"
     ]
    },
    {
     "name": "stderr",
     "output_type": "stream",
     "text": [
      "\n"
     ]
    }
   ],
   "source": [
    "res = []\n",
    "for d in tqdm(data[:10]):\n",
    "    response = client.chat.completions.create(\n",
    "    model=\"deepseek-chat\",\n",
    "    messages=[\n",
    "        {\"role\": \"system\", \"content\": \"\"\"请从中文社交媒体文本中识别仇恨言论四元组。按以下要求处理：\n",
    "1.识别评论对象(Target)，无目标时写NULL\n",
    "2.提取对应论点(Argument)\n",
    "3.确定目标群体(Targeted Group)：如果是仇恨，判断是一下哪个：LGBTQ/Racism/Region/Sexism/others；如果不涉及仇恨就是non-hate\n",
    "4.判断是否仇恨(Hateful)：hate/non-hate\n",
    "\n",
    "输出格式：Target | Argument | Targeted Group | Hateful [SEP]... [END]\n",
    "多个四元组用[SEP]分隔，最后用[END]结尾\n",
    "\n",
    "下面提供几个数据样例：\n",
    "\n",
    "输入： 你可真是头蠢驴，这都做不好。\n",
    "输出： 你 | 蠢驴 | non-hate | non-hate [END]\n",
    "\n",
    "输入： 老黑我是真的讨厌，媚黑的还倒贴。\n",
    "输出： 老黑 | 讨厌 | Racism | hate [SEP] 媚黑的 | 倒贴 | Racism | hate [END]\n",
    "\n",
    "输入： 就最近来说有两个事，lol某主播的前女友发文称其飞黄腾达后抛弃她。我个人的想法是看男方的回应，本来恋爱期间有些东西是说不清的。结果小作文来了，一群人不等男方回应直接定论。如果男方承认了那确实应该锤死，万一有什么反转呢？这次是顺风团，万一下次是逆风呢？\n",
    "输出： 一群人 | 不等男方回应直接定论 | others | hate [END]\n",
    "\n",
    "输入： 想反女权还得看女权，舔狗龟男理中客们不是男人能打醒的。\n",
    "输出： 女权 | 想反女权还得看女权 | Sexism | hate [SEP] 舔狗龟男理中客们 | 不是男人能打醒的 | Sexism | hate [END]\n",
    "\n",
    "输入： 图片暂时发不出来等我想想办法\n",
    "输出： 图片 | 暂时发不出来 | non-hate | non-hate [END]\n",
    "\n",
    "\"\"\"},\n",
    "        {\"role\": \"user\", \"content\":'请你判断这个文本：'+d[\"content\"]},\n",
    "    ],\n",
    "    stream=False\n",
    "    )\n",
    "    res_str = response.choices[0].message.content\n",
    "    print(d[\"content\"])\n",
    "    print(res_str)\n",
    "    res.append(res_str)"
   ]
  },
  {
   "cell_type": "code",
   "execution_count": null,
   "id": "b7ae1b66-d25a-4a87-9cd3-2982a2e36aac",
   "metadata": {},
   "outputs": [],
   "source": []
  }
 ],
 "metadata": {
  "kernelspec": {
   "display_name": "Python 3 (ipykernel)",
   "language": "python",
   "name": "python3"
  },
  "language_info": {
   "codemirror_mode": {
    "name": "ipython",
    "version": 3
   },
   "file_extension": ".py",
   "mimetype": "text/x-python",
   "name": "python",
   "nbconvert_exporter": "python",
   "pygments_lexer": "ipython3",
   "version": "3.12.9"
  }
 },
 "nbformat": 4,
 "nbformat_minor": 5
}
